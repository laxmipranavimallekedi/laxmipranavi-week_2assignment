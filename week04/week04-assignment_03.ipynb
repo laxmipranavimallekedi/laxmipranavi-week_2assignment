{
  "cells": [
    {
      "cell_type": "markdown",
      "metadata": {
        "id": "view-in-github",
        "colab_type": "text"
      },
      "source": [
        "<a href=\"https://colab.research.google.com/github/laxmipranavimallekedi/HDS5210_Instructor/blob/main/week04/week04-assignment_03.ipynb\" target=\"_parent\"><img src=\"https://colab.research.google.com/assets/colab-badge.svg\" alt=\"Open In Colab\"/></a>"
      ]
    },
    {
      "cell_type": "markdown",
      "metadata": {
        "nbgrader": {
          "grade": false,
          "grade_id": "intro",
          "locked": true,
          "schema_version": 1,
          "solution": false
        },
        "id": "yAJvvDWXEuft"
      },
      "source": [
        "# Week 4 Assignment\n",
        "\n",
        "See: _McKinney 3.1_ and [Python Documentation](https://docs.python.org/3/tutorial/datastructures.html) section 5 on data structures.\n",
        "\n",
        "Modules 13 through 15 have all been about different built-in data types that can be used to create larger and more complex data structures.  We learned about tuples, lists, dictionaries, and how to access and process that data in new ways.\n",
        "\n",
        "**At the begining of the semester, all of the workshop programming exercises will be structured a specific way to make it easier to verify for yourself that you're on the right track as well as easier for me to do a first pass on automated grading.  The structure of each question will require you to write a function using Python code. Don't worry that we haven't talked about functions yet. Just edit the code between** `### BEGIN SOLUTION` and `### END SOLUTION` **as shown in the example below.**\n"
      ]
    },
    {
      "cell_type": "markdown",
      "metadata": {
        "id": "CHSvl8_0Eufv"
      },
      "source": [
        "**WHAT I PROVIDE:**\n",
        "```\n",
        "def some_function(parameter1, parameter2):\n",
        "\n",
        "   ### BEGIN SOLUTION\n",
        "   x = -1\n",
        "   ### END SOLUTION\n",
        "   \n",
        "   return x\n",
        "```\n",
        "\n",
        "**WHAT YOU SHOULD DO:** Just change the parameter names (if you feel you need to) and the calculations between `### BEGIN SOLUTION` and `### END SOLUTION`.  This is just a made up example.\n",
        "```\n",
        "def some_function(a, b):\n",
        "\n",
        "   ### BEGIN SOLUTION\n",
        "   temp = a + b\n",
        "   x = temp / a * b\n",
        "   ### END SOLUTION\n",
        "   \n",
        "   return x\n",
        "```\n"
      ]
    },
    {
      "cell_type": "markdown",
      "metadata": {
        "id": "lYkMuF79Eufv"
      },
      "source": [
        "---\n",
        "---\n",
        "\n",
        "**Below each programming exercise are some tests (`assertions`) that verify your code is working correctly.  If any assertions fail, you know that something isnt' right with your code, but having all assertions pass doesn't necessarily mean your code is perfect, yet. You should also create your own tests to make sure your code is correct.**\n",
        "\n",
        "**For now, please don't change any function names**"
      ]
    },
    {
      "cell_type": "markdown",
      "metadata": {
        "id": "mA38DsTUEufv"
      },
      "source": [
        "### 15.1 Create a sorted list of names\n",
        "\n",
        "Take the list of names below (some are first and last, others are first, middle, and last) and produce a final list of full names.\n",
        "\n",
        "```\n",
        "sort_names([\n",
        "  ['Adam', 'Doyle'],\n",
        "  ['Kermit','the','Frog'],\n",
        "  ['Donald','Duck']])\n",
        "\n",
        "['Adam Doyle', 'Donald Duck', 'Kermit the Frog']\n",
        "```"
      ]
    },
    {
      "cell_type": "markdown",
      "metadata": {
        "id": "rr7C0l5sEufv"
      },
      "source": [
        "**Tip:** If you have a list of lists and want to sort it, Python can do that. It will simply sort using the first item in each of the lists inside your list."
      ]
    },
    {
      "cell_type": "code",
      "execution_count": 71,
      "metadata": {
        "id": "ruWRHThjEufv"
      },
      "outputs": [],
      "source": [
        "names = [['Adam', 'Doyle'],\n",
        "  ['Kermit','the','Frog'],\n",
        "  ['Donald','Duck']]"
      ]
    },
    {
      "cell_type": "code",
      "execution_count": 72,
      "metadata": {
        "id": "606OLW4-Eufw"
      },
      "outputs": [],
      "source": [
        "def name_sorter(name_list):\n",
        "    # join names\n",
        "    full_names = [\" \".join(name) for name in name_list ]\n",
        "    #sorting names\n",
        "    full_names.sort()\n",
        "    return full_names"
      ]
    },
    {
      "cell_type": "code",
      "execution_count": 73,
      "metadata": {
        "id": "JqcGgv_dEufw"
      },
      "outputs": [],
      "source": [
        "names = [['Adam', 'Doyle'],\n",
        "  ['Kermit','the','Frog'],\n",
        "  ['Donald','Duck']]\n",
        "\n",
        "assert name_sorter(names) == [\"Adam Doyle\", \"Donald Duck\", \"Kermit the Frog\"]"
      ]
    },
    {
      "cell_type": "markdown",
      "metadata": {
        "id": "SFVy2FY8Eufw"
      },
      "source": [
        "### 15.2 Convert a dictionary to a list\n",
        "\n",
        "In this exercise, we're going to take a dictionary that has families and their names, and convert that into a list of names.  The dictionary is structured such that the key is the family name, and the value for that key is a list of first names.\n",
        "\n",
        "```\n",
        "{\n",
        "  'Doyle': ['Adam', 'Oliver', 'Xavier'],\n",
        "  'Duck': ['Donald', 'Daisy', 'Howard'],\n",
        "  'Mouse': ['Mickey', 'Minnie', 'Mighty']\n",
        "}\n",
        "\n",
        "[['Doyle', 'Adam'],\n",
        " ['Doyle', 'Oliver'],\n",
        " ['Doyle', 'Xavier'],\n",
        " ['Duck', 'Donald'],\n",
        " ['Duck', 'Daisy'],\n",
        " ...\n",
        "```"
      ]
    },
    {
      "cell_type": "code",
      "execution_count": 74,
      "metadata": {
        "id": "iFNKiWWMEufw"
      },
      "outputs": [],
      "source": [
        "families = {\n",
        "  'Doyle': ['Adam', 'Oliver', 'Xavier'],\n",
        "  'Duck': ['Donald', 'Daisy', 'Howard'],\n",
        "  'Mouse': ['Mickey', 'Minnie', 'Mighty']\n",
        "}\n",
        ""
      ]
    },
    {
      "cell_type": "code",
      "execution_count": 75,
      "metadata": {
        "id": "zdcaUD3NEufx"
      },
      "outputs": [],
      "source": [
        "def dict_to_list(families):\n",
        "    # start by creating an empty list\n",
        "    output = []\n",
        "    # loop through the key value pairs in the input dict\n",
        "    for name,family_list in families.items():\n",
        "    #loop through each family in family_list\n",
        "     for member in family_list:\n",
        "    #add the\n",
        "      output.append([name,member])\n",
        "\n",
        "    return output"
      ]
    },
    {
      "cell_type": "code",
      "execution_count": 76,
      "metadata": {
        "id": "0fwmF4H6Eufx",
        "outputId": "db5cd836-4e50-461c-ce9f-79ab2e08c6c5",
        "colab": {
          "base_uri": "https://localhost:8080/"
        }
      },
      "outputs": [
        {
          "output_type": "execute_result",
          "data": {
            "text/plain": [
              "[['Duck', 'Hewey'],\n",
              " ['Duck', 'Dewey'],\n",
              " ['Duck', 'Louie'],\n",
              " ['Mouse', 'Mickey'],\n",
              " ['Mouse', 'Minney']]"
            ]
          },
          "metadata": {},
          "execution_count": 76
        }
      ],
      "source": [
        "families = {\n",
        "  'Doyle': ['Adam', 'Oliver', 'Xavier'],\n",
        "  'Duck': ['Donald', 'Daisy', 'Howard'],\n",
        "  'Mouse': ['Mickey', 'Minnie', 'Mighty']\n",
        "}\n",
        "\n",
        "dict_to_list({'Duck': ['Hewey','Dewey','Louie'],\n",
        "              'Mouse': ['Mickey','Minney']})"
      ]
    },
    {
      "cell_type": "markdown",
      "metadata": {
        "nbgrader": {
          "grade": false,
          "grade_id": "average",
          "locked": true,
          "schema_version": 1,
          "solution": false
        },
        "id": "FWa2JntWEufx"
      },
      "source": [
        "### 20.3 Convert a list to a dictionary\n",
        "\n",
        "Take the list of lists below and convert it into a dictionary where the entries in the dictionary are keyed off of whatever values are in column 0, and the dictionary values are the list of all the values that appear with that key from the input list."
      ]
    },
    {
      "cell_type": "code",
      "execution_count": 77,
      "metadata": {
        "nbgrader": {
          "grade": false,
          "grade_id": "average-answer",
          "locked": false,
          "schema_version": 1,
          "solution": true
        },
        "id": "2my8W1tjEufx"
      },
      "outputs": [],
      "source": [
        "from os import name\n",
        "def list_to_dict(names):\n",
        "\n",
        "    names = [['Doyle', 'Adam'],\n",
        " ['Doyle', 'Oliver'],\n",
        " ['Doyle', 'Xavier'],\n",
        " ['Duck', 'Donald'],\n",
        " ['Duck', 'Daisy'],\n",
        " ['Mouse', 'Mickey'],\n",
        " ['Mouse', 'Minnie'],\n",
        " ['Mouse', 'Mighty']\n",
        " ]\n",
        "\n",
        "    # To help you, I've provided a blank dictionary named `families`.\n",
        "    families = {}\n",
        "\n",
        "    # Your code should loop through `names` and do something to build\n",
        "    for member in names:\n",
        "       family_name = member[0]\n",
        "       name = member[1]\n",
        "       if family_name not in families.keys():\n",
        "          families[family_name]=[]\n",
        "       families[family_name].append(name)\n",
        "\n",
        "    # Put your solution here\n",
        "\n",
        "    return families\n"
      ]
    },
    {
      "cell_type": "code",
      "execution_count": 78,
      "metadata": {
        "id": "X3tlk001Eufx",
        "outputId": "c5d558fb-02a8-48a1-874d-8d5d3723ed14",
        "colab": {
          "base_uri": "https://localhost:8080/"
        }
      },
      "outputs": [
        {
          "output_type": "execute_result",
          "data": {
            "text/plain": [
              "{'Doyle': ['Adam', 'Oliver', 'Xavier'],\n",
              " 'Duck': ['Donald', 'Daisy'],\n",
              " 'Mouse': ['Mickey', 'Minnie', 'Mighty']}"
            ]
          },
          "metadata": {},
          "execution_count": 78
        }
      ],
      "source": [
        "list_to_dict(names)"
      ]
    },
    {
      "cell_type": "code",
      "execution_count": 79,
      "metadata": {
        "nbgrader": {
          "grade": true,
          "grade_id": "average-tests",
          "locked": true,
          "points": 5,
          "schema_version": 1,
          "solution": false
        },
        "id": "zM6uqtG4Eufx"
      },
      "outputs": [],
      "source": [
        "answer = {\n",
        " 'Doyle':    ['Adam', 'Oliver', 'Xavier'],\n",
        " 'Duck':    ['Donald', 'Daisy'],\n",
        " 'Mouse':   ['Mickey', 'Minnie', 'Mighty']\n",
        "}\n",
        "\n",
        "assert (list_to_dict(names) == answer)"
      ]
    },
    {
      "cell_type": "markdown",
      "metadata": {
        "id": "BNnHS8LpEufx"
      },
      "source": [
        "### 20.4 Join using a dictionary\n",
        "\n",
        "We have a list of patients, diagnosis, and length of stay.  We also have a dictionary that contains diagnosis and average length of stay.  Produce an output list that lists the patient and an indicator if the patient's stay was 'too long', 'too short', 'just right'"
      ]
    },
    {
      "cell_type": "code",
      "execution_count": 80,
      "metadata": {
        "nbgrader": {
          "grade": false,
          "grade_id": "cell-f3813e33810dc898",
          "locked": false,
          "schema_version": 1,
          "solution": true
        },
        "id": "GJvny50NEufy"
      },
      "outputs": [],
      "source": [
        "def patient_los(avg_los, patients):\n",
        "\n",
        "    conclusions = []\n",
        "    for patient in patients:\n",
        "        name = patient[0]\n",
        "        diagnosis = patient[1]\n",
        "        length_of_stay = patient[2]\n",
        "        if length_of_stay > avg_los[diagnosis]:\n",
        "            conclusions.append([name,\"too long\"])\n",
        "        elif length_of_stay < avg_los[diagnosis]:\n",
        "            conclusions.append([name,\"too short\"])\n",
        "        else:\n",
        "            conclusions.append([name,\"just right\"])\n",
        "\n",
        "\n",
        "    return conclusions"
      ]
    },
    {
      "cell_type": "code",
      "execution_count": 81,
      "metadata": {
        "id": "2hEMox4uEufy",
        "outputId": "8194dfbb-499b-434b-e7ee-ee6af5cbe285",
        "colab": {
          "base_uri": "https://localhost:8080/"
        }
      },
      "outputs": [
        {
          "output_type": "execute_result",
          "data": {
            "text/plain": [
              "[['Doyle', 'too short'],\n",
              " ['Doyle', 'too long'],\n",
              " ['Jones', 'just right'],\n",
              " ['Ashbury', 'too short']]"
            ]
          },
          "metadata": {},
          "execution_count": 81
        }
      ],
      "source": [
        "avg_los = {\n",
        "    \"Hemolytic jaundice and perinatal jaundice\" : 2,\n",
        "    \"Medical examination/evaluation\" : 3.2,\n",
        "    \"Liveborn\" : 3.2,\n",
        "    \"Trauma to perineum and vulva\" : 2.1,\n",
        "    \"Normal pregnancy and/or delivery\" : 2,\n",
        "    \"Umbilical cord complication\" : 2.1,\n",
        "    \"Forceps delivery\" : 2.2,\n",
        "    \"Administrative/social admission\" : 4.2,\n",
        "    \"Prolonged pregnancy\" : 2.4,\n",
        "    \"Other complications of pregnancy\" : 2.5\n",
        "}\n",
        "\n",
        "patients = [\n",
        "    ['Doyle', 'Medical examination/evaluation', 1.1],\n",
        "    ['Doyle', 'Other complications of pregnancy', 3.3],\n",
        "    ['Jones', 'Liveborn', 3.2],\n",
        "    ['Ashbury', 'Forceps delivery', 2.0]\n",
        "]\n",
        "\n",
        "patient_los(avg_los, patients)"
      ]
    },
    {
      "cell_type": "code",
      "execution_count": 82,
      "metadata": {
        "nbgrader": {
          "grade": true,
          "grade_id": "cell-2af0a520bb56ee21",
          "locked": true,
          "points": 10,
          "schema_version": 1,
          "solution": false
        },
        "id": "cD1FnAueEufy"
      },
      "outputs": [],
      "source": [
        "conclusions = [['Doyle', 'too short'],\n",
        "    ['Doyle', 'too long'],\n",
        "    ['Jones', 'just right'],\n",
        "    ['Ashbury', 'too short']]\n",
        "\n",
        "assert(patient_los(avg_los, patients) == conclusions)"
      ]
    },
    {
      "cell_type": "markdown",
      "metadata": {
        "id": "w3g3QRxCEufy"
      },
      "source": [
        "---\n",
        "\n",
        "## Check your work above\n",
        "\n",
        "If you didn't get them all correct, take a few minutes to think through those that aren't correct.\n",
        "\n",
        "\n",
        "## Submitting Your Work\n",
        "\n",
        "In order to submit your work, you'll need to save this notebook file back to GitHub.  To do that in Google Colab:\n",
        "1. File -> Save a Copy in GitHub\n",
        "2. Make sure your HDS5210 repository is selected\n",
        "3. Make sure the file name includes the week number like this: `week04/week04_assignment_2.ipynb`\n",
        "4. Add a commit message that means something\n",
        "\n",
        "**Be sure week names are lowercase and use a two digit week number!!**\n",
        "\n",
        "**Be sure you use the same file name provided by the instructor!!**\n",
        "\n"
      ]
    },
    {
      "cell_type": "markdown",
      "metadata": {
        "id": "0UUYS_-bEufy"
      },
      "source": []
    }
  ],
  "metadata": {
    "celltoolbar": "Create Assignment",
    "kernelspec": {
      "display_name": "Python 3",
      "language": "python",
      "name": "python3"
    },
    "language_info": {
      "codemirror_mode": {
        "name": "ipython",
        "version": 3
      },
      "file_extension": ".py",
      "mimetype": "text/x-python",
      "name": "python",
      "nbconvert_exporter": "python",
      "pygments_lexer": "ipython3",
      "version": "3.6.7"
    },
    "colab": {
      "provenance": [],
      "include_colab_link": true
    }
  },
  "nbformat": 4,
  "nbformat_minor": 0
}