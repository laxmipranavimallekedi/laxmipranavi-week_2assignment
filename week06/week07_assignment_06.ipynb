{
  "cells": [
    {
      "cell_type": "markdown",
      "metadata": {
        "id": "view-in-github",
        "colab_type": "text"
      },
      "source": [
        "<a href=\"https://colab.research.google.com/github/laxmipranavimallekedi/HDS5210_Instructor/blob/main/week06/week07_assignment_06.ipynb\" target=\"_parent\"><img src=\"https://colab.research.google.com/assets/colab-badge.svg\" alt=\"Open In Colab\"/></a>"
      ]
    },
    {
      "cell_type": "markdown",
      "metadata": {
        "id": "Og8hRL_KJHN2"
      },
      "source": [
        "# Week 7 Assignment\n",
        "\n",
        "We've been working with different types of data structures in Python (dictionary, list, etc), how those are represented in JSON documents, and how to write code to access specific data elements. In this week's assignment, you will need to create your own JSON document to store information about yourself and the grades you've received from week 1 to week 4 and the week 6 quiz.  That is, everything you should have received a grade for.  Then you'll need to show me you know how to navigate the JSON in that file.\n",
        "\n",
        "Different from what we've done in the past, you do not have to write any functions or include any docstrings.  Just create some JSON and write some code.\n",
        "\n",
        "---"
      ]
    },
    {
      "cell_type": "markdown",
      "metadata": {
        "id": "CL2p68AKJHN4"
      },
      "source": [
        "## 7.1 Create a JSON file\n",
        "\n",
        "Create a JSON file that contains your name, email, year you were born, all of the grades you've received back so far, and a comment about what you thought was most challenging on each of those assignments.  This can be any structure you choose, but make sure it uses a dictionary and a list, and has at least two levels of hierarchy.  That is, it can't just be one big long list."
      ]
    },
    {
      "cell_type": "markdown",
      "metadata": {
        "id": "ceAVTZT7JHN4"
      },
      "source": [
        "First, explain how your data structure is going to look..."
      ]
    },
    {
      "cell_type": "markdown",
      "metadata": {
        "id": "vH5Dn1IpJHN5"
      },
      "source": [
        "my file contains my personal information like my name and email in string format and have grades and birth year as integers.my personal information entirely is dictionary,in which grades is a list with multiple objects like week,assignment num,comment,grade i received for my work.week and comment,assignmnet num are strings and grade i received is a integer."
      ]
    },
    {
      "cell_type": "markdown",
      "metadata": {
        "id": "ICyWvZbqJHN5"
      },
      "source": [
        "Then put the actual JSON you've created inside the multiline string below..."
      ]
    },
    {
      "cell_type": "code",
      "execution_count": 14,
      "metadata": {
        "id": "1qWsV_18JHN5"
      },
      "outputs": [],
      "source": [
        "hds5210 = \"\"\"{\n",
        "    \"name\": \"laxmi pranavi mallekedi\",\n",
        "    \"email\": \"laxmipranavi.mallekedi@slu.edu\",\n",
        "    \"year_born\" : 1998,\n",
        "    \"grades\" : [{\"week\" : 1,\n",
        "                 \"assignment\" : \"assignment 1\",\n",
        "                 \"grade\" : 10,\n",
        "                 \"comment\" : \"Iam a little worried and found Colab and Github very confusing.\"},\n",
        "                {\"week\" : 2,\n",
        "                 \"assignment\" : \"assignment 2\",\n",
        "                 \"grade\" : 8,\n",
        "                 \"comment\" : \"Still trying to to understand and get ease with the Github.\"},\n",
        "                {\"week\" : 3,\n",
        "                 \"assignment\" : \"assignment 3\",\n",
        "                 \"grade\" : 10,\n",
        "                 \"comment\" :\"little difficulty and confusion with if,elif and else usage.\"},\n",
        "                {\"week\" : 4,\n",
        "                \"assignment\": \"assignment 4\",\n",
        "                \"grade\" : 11,\n",
        "                \"comment\": \"found it very intresting to work with dictionaries and list and their conversions.\"},\n",
        "                {\"week\" : 5,\n",
        "                 \"assignment\" : \"assignment 5\",\n",
        "                 \"grade\" : 10,\n",
        "                 \"comment\" :\"little confused using docstrings.\"},\n",
        "                {\"week\" : 6,\n",
        "                 \"assignment\" : \"assignment 6\",\n",
        "                 \"grade\" : 10,\n",
        "                 \"comment\" :\"Excited and fun to know using JSON files and how to handle them.\"}]}\n",
        "\"\"\""
      ]
    },
    {
      "cell_type": "markdown",
      "metadata": {
        "id": "3gbWXELDJHN6"
      },
      "source": [
        "## 7.2 Do something with your JSON\n",
        "\n",
        "Now use Python code to do something with the Json above.  Turn it into English text, but make sure that you use at least one loop to access some dict or list content of your JSON.  Below, I've provided some basic code to read in the string above as JSON and return a Python object.  Your job is to work with that data structure and print out the important information like your name, email, and how you did on each assignment."
      ]
    },
    {
      "cell_type": "code",
      "execution_count": 15,
      "metadata": {
        "id": "tM0loiITJHN6",
        "outputId": "487777f3-0fdb-4cff-b2cf-0f03f1743d7e",
        "colab": {
          "base_uri": "https://localhost:8080/"
        }
      },
      "outputs": [
        {
          "output_type": "stream",
          "name": "stdout",
          "text": [
            "laxmi pranavi mallekedi\n",
            "laxmipranavi.mallekedi@slu.edu\n",
            "1998\n",
            "[{'week': 1, 'assignment': 'assignment 1', 'grade': 10, 'comment': 'Iam a little worried and found Colab and Github very confusing.'}, {'week': 2, 'assignment': 'assignment 2', 'grade': 8, 'comment': 'Still trying to to understand and get ease with the Github.'}, {'week': 3, 'assignment': 'assignment 3', 'grade': 10, 'comment': 'little difficulty and confusion with if,elif and else usage.'}, {'week': 4, 'assignment': 'assignment 4', 'grade': 11, 'comment': 'found it very intresting to work with dictionaries and list and their conversions.'}, {'week': 5, 'assignment': 'assignment 5', 'grade': 10, 'comment': 'little confused using docstrings.'}, {'week': 6, 'assignment': 'assignment 6', 'grade': 10, 'comment': 'Excited and fun to know using JSON files and how to handle them.'}]\n",
            "Week 1: assignment 1:\n",
            "Grade: 10\n",
            "Comment: Iam a little worried and found Colab and Github very confusing.\n",
            "0\n",
            "Week 2: assignment 2:\n",
            "Grade: 8\n",
            "Comment: Still trying to to understand and get ease with the Github.\n",
            "0\n",
            "Week 3: assignment 3:\n",
            "Grade: 10\n",
            "Comment: little difficulty and confusion with if,elif and else usage.\n",
            "0\n",
            "Week 4: assignment 4:\n",
            "Grade: 11\n",
            "Comment: found it very intresting to work with dictionaries and list and their conversions.\n",
            "0\n",
            "Week 5: assignment 5:\n",
            "Grade: 10\n",
            "Comment: little confused using docstrings.\n",
            "0\n",
            "Week 6: assignment 6:\n",
            "Grade: 10\n",
            "Comment: Excited and fun to know using JSON files and how to handle them.\n",
            "0\n"
          ]
        }
      ],
      "source": [
        "import json\n",
        "\n",
        "info = json.loads(hds5210)\n",
        "\n",
        "print(info[\"name\"])\n",
        "print(info[\"email\"])\n",
        "print(info[\"year_born\"])\n",
        "print(info[\"grades\"])\n",
        "\n",
        "total_grade = 0\n",
        "num_assignments = len(info[\"grades\"])\n",
        "\n",
        "for entry in info[\"grades\"]:\n",
        "  week = entry[\"week\"]\n",
        "  assignment = entry[\"assignment\"]\n",
        "  grade_value = entry[\"grade\"]\n",
        "  comment = entry[\"comment\"]\n",
        "\n",
        "  print(f\"Week {week}: {assignment}:\")\n",
        "  print(f\"Grade: {grade_value}\")\n",
        "  print(f\"Comment: {comment}\")\n",
        "\n",
        "  total_grade += grade_value\n",
        "\n",
        "  average_grade = total_grade/num_assignments if num_assignments <0 else 0\n",
        "\n",
        "  print(average_grade)"
      ]
    },
    {
      "cell_type": "markdown",
      "metadata": {
        "id": "ExZs8rugJHN6"
      },
      "source": [
        "## 7.3 Reflect\n",
        "\n",
        "Write a paragraph on any reflections you have. Was this hard? Easy?  What parts were most challenging or easiest? What did you like or dislike about the assignment?  Share whatever important thoughts you have abou this assignment."
      ]
    },
    {
      "cell_type": "markdown",
      "metadata": {
        "id": "p5rzheqOJHN6"
      },
      "source": [
        "I found it very interesting to create a json file and little difficulty in decoding how to do it. I loved doing the assignment it was very exciting learning something new."
      ]
    },
    {
      "cell_type": "markdown",
      "metadata": {
        "id": "9fVK4JHjJHN7"
      },
      "source": [
        "---\n",
        "\n",
        "# Example\n",
        "\n",
        "Below is an example of something similar, but this uses information my and my friend's kids instead of grades."
      ]
    },
    {
      "cell_type": "code",
      "execution_count": null,
      "metadata": {
        "id": "OUEZGVDrJHN7",
        "outputId": "2e414384-f402-4467-cb26-1071189af62f"
      },
      "outputs": [
        {
          "name": "stdout",
          "output_type": "stream",
          "text": [
            "Hi, my name is Paul. I've got 3 kids. Their names are Ellie, Ada, Teddy.\n",
            "My friend, Anny has 1 kids. That's fewer than me. Their names are 1\n"
          ]
        }
      ],
      "source": [
        "hds5210 = \"\"\"\n",
        "{\n",
        "    \"me\": {\n",
        "        \"name\": \"Paul\",\n",
        "        \"kids\": [\"Ellie\", \"Ada\", \"Teddy\"]\n",
        "    },\n",
        "    \"friend\": {\n",
        "        \"name\": \"Anny\",\n",
        "        \"kids\": [\"Abby\"]\n",
        "    }\n",
        "}\n",
        "\"\"\"\n",
        "\n",
        "import json\n",
        "\n",
        "info = json.loads(hds5210)\n",
        "\n",
        "me = info[\"me\"][\"name\"]\n",
        "my_kids_count = len(info[\"me\"][\"kids\"])\n",
        "kids_list = \", \".join(info[\"me\"][\"kids\"])\n",
        "friend = info[\"friend\"][\"name\"]\n",
        "friends_kid_count = len(info[\"friend\"][\"kids\"])\n",
        "friend_kids = \", \".join(info[\"friend\"][\"kids\"])\n",
        "compare = \"more\" if friends_kid_count > my_kids_count else \"fewer\"\n",
        "\n",
        "print(f\"Hi, my name is {me}. I've got {my_kids_count} kids. Their names are {kids_list}.\")\n",
        "print(f\"My friend, {friend} has {friends_kid_count} kids. That's {compare} than me. Their names are {friends_kid_count}\")"
      ]
    }
  ],
  "metadata": {
    "kernelspec": {
      "display_name": "Python 3",
      "language": "python",
      "name": "python3"
    },
    "language_info": {
      "codemirror_mode": {
        "name": "ipython",
        "version": 3
      },
      "file_extension": ".py",
      "mimetype": "text/x-python",
      "name": "python",
      "nbconvert_exporter": "python",
      "pygments_lexer": "ipython3",
      "version": "3.9.16"
    },
    "colab": {
      "provenance": [],
      "include_colab_link": true
    }
  },
  "nbformat": 4,
  "nbformat_minor": 0
}