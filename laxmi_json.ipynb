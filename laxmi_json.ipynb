{
  "nbformat": 4,
  "nbformat_minor": 0,
  "metadata": {
    "colab": {
      "provenance": []
    },
    "kernelspec": {
      "name": "python3",
      "display_name": "Python 3"
    },
    "language_info": {
      "name": "python"
    }
  },
  "cells": [
    {
      "cell_type": "code",
      "execution_count": null,
      "metadata": {
        "id": "3tRVaAMpz7bR"
      },
      "outputs": [],
      "source": [
        "import json\n",
        "\n",
        "\n",
        "data = {\n",
        "    \"name\": \"laxmi pranavi mallekedi\",\n",
        "    \"email\": \"laxmipranavi.mallekedi@slu.edu\",\n",
        "    \"year_born\" : 1998,\n",
        "    \"grades\" : [{\"week\" : 1,\n",
        "                 \"assignment\" : \"assignment 1\",\n",
        "                 \"grade\" : 10,\n",
        "                 \"comment\" : \"Iam a little worried and found Colab and Github very confusing.\"},\n",
        "                {\"week\" : 2,\n",
        "                 \"assignment\" : \"assignment 2\",\n",
        "                 \"grade\" : 8,\n",
        "                 \"comment\" : \"Still trying to to understand and get ease with the Github.\"},\n",
        "                {\"week\" : 3,\n",
        "                 \"assignment\" : \"assignment 3\",\n",
        "                 \"grade\" : 10,\n",
        "                 \"comment\" :\"little difficulty and confusion with if,elif and else usage.\"},\n",
        "                {\"week\" : 4,\n",
        "                \"assignment\": \"assignment 4\",\n",
        "                \"grade\" : 11,\n",
        "                \"comment\": \"found it very intresting to work with dictionaries and list and their conversions.\"},\n",
        "                {\"week\" : 5,\n",
        "                 \"assignment\" : \"assignment 5\",\n",
        "                 \"grade\" : 10,\n",
        "                 \"comment\" :\"little confused using docstrings.\"},\n",
        "                {\"week\" : 6,\n",
        "                 \"assinment\" : \"assignment 6\",\n",
        "                 \"grade\" : 10,\n",
        "                 \"comment\" :\"Excited and fun to know using JSON files and how to handle them.\"}]}"
      ]
    },
    {
      "cell_type": "code",
      "source": [
        "with open(\"laxmi.json\", \"w\") as f:\n",
        "    json.dump(data,f)\n",
        "\n",
        "    print(\"json file is created\")"
      ],
      "metadata": {
        "colab": {
          "base_uri": "https://localhost:8080/"
        },
        "id": "IzIGX5Ho-vzp",
        "outputId": "84497fee-af6d-4a09-927a-9d90444014f4"
      },
      "execution_count": null,
      "outputs": [
        {
          "output_type": "stream",
          "name": "stdout",
          "text": [
            "json file is created\n"
          ]
        }
      ]
    },
    {
      "cell_type": "code",
      "source": [
        "with open(\"laxmi.json\", \"r\") as f:\n",
        "    data = json.load(f)\n",
        "\n",
        "    print(type(data))\n",
        "    print(data)\n"
      ],
      "metadata": {
        "colab": {
          "base_uri": "https://localhost:8080/"
        },
        "id": "6QCSF2VBC1DD",
        "outputId": "2139a1a5-19a2-40ca-9efe-9c7e61d2d864"
      },
      "execution_count": 6,
      "outputs": [
        {
          "output_type": "stream",
          "name": "stdout",
          "text": [
            "<class 'dict'>\n",
            "{'name': 'laxmi pranavi mallekedi', 'email': 'laxmipranavi.mallekedi@slu.edu', 'year_born': 1998, 'grades': [{'week': 1, 'assignment': 'assignment 1', 'grade': 10, 'comment': 'Iam a little worried and found Colab and Github very confusing.'}, {'week': 2, 'assignment': 'assignment 2', 'grade': 8, 'comment': 'Still trying to to understand and get ease with the Github.'}, {'week': 3, 'assignment': 'assignment 3', 'grade': 10, 'comment': 'little difficulty and confusion with if,elif and else usage.'}, {'week': 4, 'assignment': 'assignment 4', 'grade': 11, 'comment': 'found it very intresting to work with dictionaries and list and their conversions.'}, {'week': 5, 'assignment': 'assignment 5', 'grade': 10, 'comment': 'little confused using docstrings.'}, {'week': 6, 'assinment': 'assignment 6', 'grade': 10, 'comment': 'Excited and fun to know using JSON files and how to handle them.'}]}\n"
          ]
        }
      ]
    }
  ]
}